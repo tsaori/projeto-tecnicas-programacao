{
 "cells": [
  {
   "cell_type": "markdown",
   "metadata": {},
   "source": [
    "# Projeto Analise Exploratória de Dados - Python\n",
    "\n",
    "## Grupo:\n",
    "Thais Vieira<br>\n",
    "Vanessa Souza<br>\n",
    "Daniel Gulgielmin<br>\n",
    "Giuliano Oliveira\n",
    "\n",
    "Fonte de dados utilizada: https://www.gov.br/anp/pt-br/centrais-de-conteudo/dados-abertos/serie-historica-de-precos-de-combustiveis\n",
    "\n",
    "Metadados: https://www.gov.br/anp/pt-br/centrais-de-conteudo/dados-abertos/arquivos/shpc/metadados-serie-historica-precos-combustiveis-1.pdf\n",
    "\n",
    "\n"
   ]
  },
  {
   "cell_type": "markdown",
   "metadata": {},
   "source": [
    "<i>Antiga fonte de dados - por falta de acesso, mudamos para a base sendo usada acima.\n",
    "\n",
    "Nota: Fiz solicitação (1/nov/2023) de acesso à opção de Exportar Dados do dashboard da Agência Nacional do Petróleo.\n",
    "\n",
    "Link: https://www.gov.br/anp/pt-br/centrais-de-conteudo/paineis-dinamicos-da-anp/paineis-dinamicos-sobre-exploracao-e-producao-de-petroleo-e-gas/paineis-dinamicos-de-producao-de-petroleo-e-gas-natural\n",
    "\n",
    "Dashboard: https://app.powerbi.com/view?r=eyJrIjoiNzVmNzI1MzQtNTY1NC00ZGVhLTk5N2ItNzBkMDNhY2IxZTIxIiwidCI6IjQ0OTlmNGZmLTI0YTYtNGI0Mi1iN2VmLTEyNGFmY2FkYzkxMyJ9\n",
    "</i>"
   ]
  },
  {
   "cell_type": "code",
   "execution_count": 1,
   "metadata": {},
   "outputs": [],
   "source": [
    "import numpy as np\n",
    "import pandas as pd"
   ]
  },
  {
   "cell_type": "markdown",
   "metadata": {},
   "source": [
    "Pode ser feito uma multiplicação de array/matrix para converter de (ou para) metros cúbicos para barris de petróleo: <sub><b>taxa_de_conversao = 6.2898108 x m3 = bbls</b></sub><br>\n",
    "<sub>???? 1m³= 6.2898108US bbl oil ?????</sub>\n",
    "\n",
    "Usando numpy, ler uma coluna, colocar em um array simples (ndim = 1) e multiplicar pelo fator de conversão."
   ]
  }
 ],
 "metadata": {
  "kernelspec": {
   "display_name": "Python 3",
   "language": "python",
   "name": "python3"
  },
  "language_info": {
   "codemirror_mode": {
    "name": "ipython",
    "version": 3
   },
   "file_extension": ".py",
   "mimetype": "text/x-python",
   "name": "python",
   "nbconvert_exporter": "python",
   "pygments_lexer": "ipython3",
   "version": "3.11.4"
  }
 },
 "nbformat": 4,
 "nbformat_minor": 2
}
