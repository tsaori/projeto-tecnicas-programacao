{
 "cells": [
  {
   "cell_type": "markdown",
   "metadata": {},
   "source": [
    "# Projeto Analise Exploratória de Dados - Python\n",
    "\n",
    "## Grupo:\n",
    "Thais Saori Yoshidome Vieira<br>\n",
    "Vanessa Lazarin de Souza<br>\n",
    "Daniel Ribeiro Gulgielmin<br>\n",
    "Giuliano C Oliveira"
   ]
  },
  {
   "cell_type": "markdown",
   "metadata": {},
   "source": [
    "### <b>Grupo analisando duas fontes de dados distintas antes de decidir qual prosseguir.</b>"
   ]
  },
  {
   "cell_type": "markdown",
   "metadata": {},
   "source": [
    "# Fonte de Dados # 1 - Agência Nacional de Petróleo - Brasil - Base Histórica de Preços de Combustíveis\n",
    "Fonte de dados utilizada: https://www.gov.br/anp/pt-br/centrais-de-conteudo/dados-abertos/serie-historica-de-precos-de-combustiveis\n",
    "\n",
    "Metadados: https://www.gov.br/anp/pt-br/centrais-de-conteudo/dados-abertos/arquivos/shpc/metadados-serie-historica-precos-combustiveis-1.pdf"
   ]
  },
  {
   "cell_type": "markdown",
   "metadata": {},
   "source": [
    "# Fonte de Dados # 2 - Agência Nacional de Petróleo - Brasil - Base Histórica de Produção de Petróleo\n",
    "Nota: Eu, Giuliano, fiz solicitação (1/nov/2023) de acesso à opção de Exportar Dados do dashboard da Agência Nacional do Petróleo.\n",
    "\n",
    "Giuliano agora (10/nov/2023) tem acesso às fontes de dados da ANP relativas aos dados históricos de produção de petróleo e gás no Brasil, através do seguinte dashboard:\n",
    "\n",
    "https://app.powerbi.com/groups/me/reports/619d6b5a-ce5d-4b6b-be17-a662c1acd272/ReportSection13ca6c5e355669f8980e?ctid=4499f4ff-24a6-4b42-b7ef-124afcadc913&experience=power-bi\n",
    "\n",
    "\n",
    "<i>Link: https://www.gov.br/anp/pt-br/centrais-de-conteudo/paineis-dinamicos-da-anp/paineis-dinamicos-sobre-exploracao-e-producao-de-petroleo-e-gas/paineis-dinamicos-de-producao-de-petroleo-e-gas-natural\n",
    "\n",
    "Dashboard Padrão (Exportar Dados não é permitido nesse dashboard): https://app.powerbi.com/view?r=eyJrIjoiNzVmNzI1MzQtNTY1NC00ZGVhLTk5N2ItNzBkMDNhY2IxZTIxIiwidCI6IjQ0OTlmNGZmLTI0YTYtNGI0Mi1iN2VmLTEyNGFmY2FkYzkxMyJ9\n",
    "</i>"
   ]
  },
  {
   "cell_type": "code",
   "execution_count": 1,
   "metadata": {},
   "outputs": [],
   "source": [
    "import numpy as np\n",
    "import pandas as pd"
   ]
  },
  {
   "cell_type": "markdown",
   "metadata": {},
   "source": [
    "Pode ser feito uma multiplicação de array/matrix para converter de (ou para) metros cúbicos para barris de petróleo: <sub><b>taxa_de_conversao = 6.2898108 x m3 = bbls</b></sub><br>\n",
    "<sub>???? 1m³= 6.2898108US bbl oil ?????</sub>\n",
    "\n",
    "Usando numpy, ler uma coluna, colocar em um array simples (ndim = 1) e multiplicar pelo fator de conversão."
   ]
  },
  {
   "cell_type": "markdown",
   "metadata": {},
   "source": [
    "Os arquivos exportados são os encontrados nas seguintes abas / páginas do dashboard:\n",
    "\n",
    "- Tabela - Produção (/arquivos/data-tabela-producao.xlsx)\n",
    "- Tabela - Movimentação Campo <b> Pendente </b>\n",
    "- Tabela - Movimentação por Instalação (/arquivos/data-tabela-movimentacao-instalacao.xlsx)\n",
    "- Tabela - Cadastro de Campo (/arquivos/data-tabela-cadastro-campos.xlsx)\n",
    "- Tabela - Cadastro de Instalação (/arquivos/data-tabela-cadastro-instalacoes.xlsx)\n",
    "- Tabela - Cadastro de Poço (/arquivos/data-tabela-cadastro-pocos.xlsx)"
   ]
  }
 ],
 "metadata": {
  "kernelspec": {
   "display_name": "Python 3",
   "language": "python",
   "name": "python3"
  },
  "language_info": {
   "codemirror_mode": {
    "name": "ipython",
    "version": 3
   },
   "file_extension": ".py",
   "mimetype": "text/x-python",
   "name": "python",
   "nbconvert_exporter": "python",
   "pygments_lexer": "ipython3",
   "version": "3.11.4"
  }
 },
 "nbformat": 4,
 "nbformat_minor": 2
}
